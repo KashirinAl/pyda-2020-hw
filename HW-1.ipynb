{
 "cells": [
  {
   "cell_type": "markdown",
   "metadata": {},
   "source": [
    "# Задание 1"
   ]
  },
  {
   "cell_type": "markdown",
   "metadata": {},
   "source": [
    "### Даны 2 переменных, в которых хранятся строки произвольной длины: phrase_1 и phrase_2.\n",
    "#### Напишите код, который проверяет какая из этих строк длиннее."
   ]
  },
  {
   "cell_type": "code",
   "execution_count": 1,
   "metadata": {},
   "outputs": [
    {
     "name": "stdout",
     "output_type": "stream",
     "text": [
      "Фраза 1 длиннее фразы 2\n"
     ]
    }
   ],
   "source": [
    "phrase_1 = 'Насколько проще было бы писать программы, если бы не заказчики'\n",
    "phrase_2 = '640Кб должно хватить для любых задач. Билл Гейтс (по легенде)'\n",
    "if phrase_1 > phrase_2:\n",
    "    print('Фраза 1 длиннее фразы 2')\n",
    "elif phrase_1 < phrase_2:\n",
    "    print('Фраза 2 длиннее фразы 1')\n",
    "else:\n",
    "    print('Фразы равной длины')"
   ]
  },
  {
   "cell_type": "code",
   "execution_count": 3,
   "metadata": {},
   "outputs": [
    {
     "name": "stdout",
     "output_type": "stream",
     "text": [
      "Фраза 2 длиннее фразы 1\n"
     ]
    }
   ],
   "source": [
    "phrase_1 = '640Кб должно хватить для любых задач. Билл Гейтс (по легенде)'\n",
    "phrase_2 = 'Насколько проще было бы писать программы, если бы не заказчики'\n",
    "if phrase_1 > phrase_2:\n",
    "    print('Фраза 1 длиннее фразы 2')\n",
    "elif phrase_1 < phrase_2:\n",
    "    print('Фраза 2 длиннее фразы 1')\n",
    "else:\n",
    "    print('Фразы равной длины')"
   ]
  },
  {
   "cell_type": "code",
   "execution_count": 4,
   "metadata": {},
   "outputs": [
    {
     "name": "stdout",
     "output_type": "stream",
     "text": [
      "Фразы равной длины\n"
     ]
    }
   ],
   "source": [
    "phrase_1 = 'Насколько проще было бы писать программы, если бы не заказчики'\n",
    "phrase_2 = 'Насколько проще было бы писать программы, если бы не заказчики'\n",
    "if phrase_1 > phrase_2:\n",
    "    print('Фраза 1 длиннее фразы 2')\n",
    "elif phrase_1 < phrase_2:\n",
    "    print('Фраза 2 длиннее фразы 1')\n",
    "else:\n",
    "    print('Фразы равной длины')"
   ]
  },
  {
   "cell_type": "markdown",
   "metadata": {},
   "source": [
    "# Задание 2"
   ]
  },
  {
   "cell_type": "markdown",
   "metadata": {},
   "source": [
    "### Дана переменная, в которой хранится четырехзначное число (год). \n",
    "#### Необходимо написать программу, которая выведет, является ли данный год високосным или обычным."
   ]
  },
  {
   "cell_type": "code",
   "execution_count": 5,
   "metadata": {},
   "outputs": [
    {
     "name": "stdout",
     "output_type": "stream",
     "text": [
      "Високосный год\n"
     ]
    }
   ],
   "source": [
    "year = 2020\n",
    "if year % 4 == 0:\n",
    "    print('Високосный год')\n",
    "else:\n",
    "    print('Обычный год')"
   ]
  },
  {
   "cell_type": "code",
   "execution_count": 6,
   "metadata": {},
   "outputs": [
    {
     "name": "stdout",
     "output_type": "stream",
     "text": [
      "Обычный год\n"
     ]
    }
   ],
   "source": [
    "year = 2019\n",
    "if year % 4 == 0:\n",
    "    print('Високосный год')\n",
    "else:\n",
    "    print('Обычный год')"
   ]
  },
  {
   "cell_type": "code",
   "execution_count": 7,
   "metadata": {},
   "outputs": [
    {
     "name": "stdout",
     "output_type": "stream",
     "text": [
      "Обычный год\n"
     ]
    }
   ],
   "source": [
    "year = 2021\n",
    "if year % 4 == 0:\n",
    "    print('Високосный год')\n",
    "else:\n",
    "    print('Обычный год')"
   ]
  },
  {
   "cell_type": "markdown",
   "metadata": {},
   "source": [
    "# Задание 3"
   ]
  },
  {
   "cell_type": "markdown",
   "metadata": {},
   "source": [
    "### Необходимо написать программу, \n",
    "#### которая будет запрашивать у пользователя месяц и дату рождения и выводить соответствующий знак зодиака."
   ]
  },
  {
   "cell_type": "code",
   "execution_count": 8,
   "metadata": {},
   "outputs": [
    {
     "name": "stdout",
     "output_type": "stream",
     "text": [
      "12\n",
      "Июль\n",
      "Ваш знак зодиака: Рак\n"
     ]
    }
   ],
   "source": [
    "D = int(input(''))\n",
    "M = input('')\n",
    "if M == 'Январь':\n",
    "    if D <= 20:\n",
    "        print ('Ваш знак зодиака:','Козерог')\n",
    "    else:\n",
    "        print ('Ваш знак зодиака:','Водолей')\n",
    "elif M == 'Февраль':\n",
    "    if D <= 19:\n",
    "        print ('Ваш знак зодиака:','Водолей')\n",
    "    else:\n",
    "        print ('Ваш знак зодиака:','Рыбы')\n",
    "elif M == 'Март':\n",
    "    if D <= 20:\n",
    "        print ('Ваш знак зодиака:','Рыбы')\n",
    "    else:\n",
    "        print ('Ваш знак зодиака:','Овен')        \n",
    "elif M == 'Апрель':\n",
    "    if D <= 20:\n",
    "        print ('Ваш знак зодиака:','Овен')\n",
    "    else:\n",
    "        print ('Ваш знак зодиака:','Телец')                \n",
    "elif M == 'Май':\n",
    "    if D <= 21:\n",
    "        print ('Ваш знак зодиака:','Телец')\n",
    "    else:\n",
    "        print ('Ваш знак зодиака:','Близнецы')        \n",
    "elif M == 'Июнь':\n",
    "    if D <= 21:\n",
    "        print ('Ваш знак зодиака:','Близнецы')\n",
    "    else:\n",
    "        print ('Ваш знак зодиака:','Рак')         \n",
    "elif M == 'Июль':\n",
    "    if D <= 22:\n",
    "        print ('Ваш знак зодиака:','Рак')\n",
    "    else:\n",
    "        print ('Ваш знак зодиака:','Лев')         \n",
    "elif M == 'Август':\n",
    "    if D <= 23:\n",
    "        print ('Ваш знак зодиака:','Лев')\n",
    "    else:\n",
    "        print ('Ваш знак зодиака:','Дева')         \n",
    "elif M == 'Сентябрь':\n",
    "    if D <= 23:\n",
    "        print ('Ваш знак зодиака:','Дева')\n",
    "    else:\n",
    "        print ('Ваш знак зодиака:','Весы')\n",
    "elif M == 'Октябрь':\n",
    "    if D <= 23:\n",
    "        print ('Ваш знак зодиака:','Весы')\n",
    "    else:\n",
    "        print ('Ваш знак зодиака:','Скорпион')\n",
    "elif M == 'Ноябрь':\n",
    "    if D <= 22:\n",
    "        print ('Ваш знак зодиака:','Скорпион')\n",
    "    else:\n",
    "        print ('Ваш знак зодиака:','Стрелец') \n",
    "elif M == 'Декабрь':\n",
    "    if D <= 22:\n",
    "        print ('Ваш знак зодиака:','Стрелец')\n",
    "    else:\n",
    "        print ('Ваш знак зодиака:','Козерог')\n",
    "else:\n",
    "    if D>31 :\n",
    "        print ('Неправильное количество дней в месяце!')\n",
    "    else:\n",
    "        print ('Напишите знак зодиака в формате \"Водолей\"!')"
   ]
  },
  {
   "cell_type": "markdown",
   "metadata": {},
   "source": [
    "# Задание 4"
   ]
  },
  {
   "cell_type": "markdown",
   "metadata": {},
   "source": [
    "### Вам нужно написать программу для подбора упаковок по размерам товара. \n",
    "#### Размеры хранятся в переменных (в сантиметрах):\n"
   ]
  },
  {
   "cell_type": "code",
   "execution_count": 25,
   "metadata": {},
   "outputs": [
    {
     "name": "stdout",
     "output_type": "stream",
     "text": [
      "Упаковка для лыж\n"
     ]
    }
   ],
   "source": [
    "width = 10\n",
    "length = 205\n",
    "height = 5\n",
    "if (length > 200):\n",
    "    print ('Упаковка для лыж')\n",
    "elif (width < 15 and length < 15 and height < 15):\n",
    "    print('Коробка №1')\n",
    "elif (width < 15 and length < 15 and height < 15):\n",
    "    print('Коробка №2')\n",
    "else:\n",
    "    print('Стандартная коробка №3')"
   ]
  },
  {
   "cell_type": "markdown",
   "metadata": {},
   "source": [
    "# Задание 5 (необязательное)"
   ]
  },
  {
   "cell_type": "markdown",
   "metadata": {},
   "source": [
    "### Дана переменная, в которой хранится шестизначное число (номер проездного билета). \n",
    "#### Напишите программу, которая будет определять, является ли данный билет \"счастливым\". \n",
    "#### Билет считается счастливым, если сумма первых трех цифр совпадает с суммой последних трех цифр номера.\n"
   ]
  },
  {
   "cell_type": "code",
   "execution_count": 27,
   "metadata": {},
   "outputs": [
    {
     "name": "stdout",
     "output_type": "stream",
     "text": [
      "Введите номер билета123321\n",
      "Счастливый билет\n"
     ]
    }
   ],
   "source": [
    "number = int(input('Введите номер билета'))\n",
    "if (number > 999999):\n",
    "    print('Номер билета - 6 цифр')\n",
    "else:\n",
    "    a = number % 10\n",
    "    b = number % 100\n",
    "    c = number % 1000\n",
    "    d = number % 10000\n",
    "    e = number % 100000\n",
    "    q = (b-a)/10\n",
    "    w = (c-b)/100\n",
    "    r = (d-c)/1000\n",
    "    t = (e-d)/10000\n",
    "    y = (number - e)/100000\n",
    "    if (a+q+w)==(r+t+y):\n",
    "        print ('Счастливый билет')\n",
    "    else:\n",
    "        print ('Несчастливый билет')"
   ]
  },
  {
   "cell_type": "markdown",
   "metadata": {},
   "source": [
    "# Задание 6 (необязательное)"
   ]
  },
  {
   "cell_type": "markdown",
   "metadata": {},
   "source": [
    "### Напишите программу, которая сможет вычислять площади трех фигур \n",
    "#### (круг, треугольник и прямоугольник). \n",
    "### Тип фигуры запрашиваем через пользовательский ввод, \n",
    "#### после чего делаем запрос характеристик фигуры:\n",
    "\n",
    "##### если пользователь выбрал круг, запрашиваем его радиус,\n",
    "##### если треугольник – длины трех его сторон;\n",
    "##### если прямоугольник – длины двух его сторон."
   ]
  },
  {
   "cell_type": "code",
   "execution_count": 28,
   "metadata": {},
   "outputs": [
    {
     "name": "stdout",
     "output_type": "stream",
     "text": [
      "Введите тип фигурыКвадрат\n",
      "Введите длину стороны A25\n",
      "Введите длину стороны B4\n",
      "Квадрат Площадь:  100\n"
     ]
    }
   ],
   "source": [
    "O = input('Введите тип фигуры')\n",
    "if O=='Круг':\n",
    "    R=int(input('Введите радиус круга'))\n",
    "    S=(R**2)*3.1415926\n",
    "elif O=='Треугольник':\n",
    "    A=int(input('Введите длину стороны A'))\n",
    "    B=int(input('Введите длину стороны B'))\n",
    "    C=int(input('Введите длину стороны C'))\n",
    "    p=(A+B+C)/2\n",
    "    S=(p*(p-A)*(p-B)*(p-C))**(1/2)\n",
    "elif O=='Квадрат':\n",
    "    A=int(input('Введите длину стороны A'))\n",
    "    B=int(input('Введите длину стороны B'))\n",
    "    S=A*B\n",
    "print(O, 'Площадь: ',S)"
   ]
  }
 ],
 "metadata": {
  "kernelspec": {
   "display_name": "Python 3",
   "language": "python",
   "name": "python3"
  },
  "language_info": {
   "codemirror_mode": {
    "name": "ipython",
    "version": 3
   },
   "file_extension": ".py",
   "mimetype": "text/x-python",
   "name": "python",
   "nbconvert_exporter": "python",
   "pygments_lexer": "ipython3",
   "version": "3.7.6"
  }
 },
 "nbformat": 4,
 "nbformat_minor": 4
}
