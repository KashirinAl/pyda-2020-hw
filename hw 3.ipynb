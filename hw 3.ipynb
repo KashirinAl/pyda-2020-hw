{
 "cells": [
  {
   "cell_type": "markdown",
   "metadata": {},
   "source": [
    "# Домашнее задание к лекции \"Введение в типы данных и циклы. \n",
    "# Часть 2\""
   ]
  },
  {
   "cell_type": "markdown",
   "metadata": {},
   "source": [
    "## Задание 1\n",
    "Дана переменная, в которой хранится словарь, \n",
    "содержащий гео-метки для каждого пользователя \n",
    "(пример структуры данных приведен ниже). \n",
    "Вам необходимо написать программу, \n",
    "которая выведет на экран множество уникальных \n",
    "гео-меток всех пользователей."
   ]
  },
  {
   "cell_type": "code",
   "execution_count": 1,
   "metadata": {},
   "outputs": [
    {
     "name": "stdout",
     "output_type": "stream",
     "text": [
      "[213, 15, 54, 119, 98, 35]\n"
     ]
    }
   ],
   "source": [
    "ids = {'user1': [213, 213, 213, 15, 213], \n",
    "       'user2': [54, 54, 119, 119, 119], \n",
    "       'user3': [213, 98, 98, 35]}\n",
    "fds = [] # Список для записи гео-меток\n",
    "\n",
    "for i in ids.keys(): # Цикл по ключам словаря\n",
    "    for j in ids.get(i): # Цикл по меткам ключа\n",
    "        if fds.count(j) == 0: # Если метка ещё не в списке, то\n",
    "            fds.append(j)     ## добавляем метку в список\n",
    "            \n",
    "print(fds)"
   ]
  },
  {
   "cell_type": "markdown",
   "metadata": {},
   "source": [
    "## Задание 2\n",
    "Дана переменная, в которой хранится список поисковых \n",
    "запросов пользователя (пример структуры данных приведен ниже). \n",
    "Вам необходимо написать программу, которая выведет на \n",
    "экран распределение количества слов в запросах в требуемом виде."
   ]
  },
  {
   "cell_type": "code",
   "execution_count": 65,
   "metadata": {},
   "outputs": [
    {
     "name": "stdout",
     "output_type": "stream",
     "text": [
      "Поисковых запросов, содержащих 2 слов(а): 42.86%\n",
      "Поисковых запросов, содержащих 3 слов(а): 57.14%\n"
     ]
    }
   ],
   "source": [
    "queries = [\n",
    "    'смотреть сериалы онлайн',\n",
    "    'новости спорта',\n",
    "    'афиша кино',\n",
    "    'курс доллара',\n",
    "    'сериалы этим летом',\n",
    "    'курс по питону',\n",
    "    'сериалы про спорт',\n",
    "]\n",
    "queri_count = [] # новый список с количеством слов\n",
    "\n",
    "for i in queries:\n",
    "    words = i.count(' ') + 1 # считаем слова по пробелам - 1 пробел между 2мя словами\n",
    "    queri_count.append(words) # переводим запросы в количества слов\n",
    "    \n",
    "num = sorted(queri_count)[0] # счётчик от минимального количества слов\n",
    "query_num = len(queries) # количество запросов\n",
    "\n",
    "while num < sorted(queri_count)[-1] + 1: # от минимального до максимального количества строк\n",
    "    word_num = (num) # количество слов\n",
    "    num_num = queri_count.count(num) # количество запросов с таким количеством строк\n",
    "    print('Поисковых запросов, содержащих ' + str(word_num) + ' слов(а): ' + str(round((100*num_num/query_num),2)) + '%')\n",
    "    num += 1"
   ]
  },
  {
   "cell_type": "markdown",
   "metadata": {},
   "source": [
    "## Задание 3\n",
    "Дана переменная, в которой хранится информация о затратах \n",
    "и доходе рекламных кампаний по различным источникам. \n",
    "Необходимо дополнить исходную структуру показателем ROI, \n",
    "который рассчитаем по формуле: (revenue / cost - 1) * 100"
   ]
  },
  {
   "cell_type": "code",
   "execution_count": 84,
   "metadata": {},
   "outputs": [
    {
     "name": "stdout",
     "output_type": "stream",
     "text": [
      "Результат:\n",
      "{'vk': {'revenue': 103, 'cost': 98, 'ROI': 5.1}, 'yandex': {'revenue': 179, 'cost': 153, 'ROI': 16.99}, 'facebook': {'revenue': 103, 'cost': 110, 'ROI': -6.36}, 'adwords': {'revenue': 35, 'cost': 34, 'ROI': 2.94}, 'twitter': {'revenue': 11, 'cost': 24, 'ROI': -54.17}}\n"
     ]
    }
   ],
   "source": [
    "results = {\n",
    "    'vk': {'revenue': 103, 'cost': 98},\n",
    "    'yandex': {'revenue': 179, 'cost': 153},\n",
    "    'facebook': {'revenue': 103, 'cost': 110},\n",
    "    'adwords': {'revenue': 35, 'cost': 34},\n",
    "    'twitter': {'revenue': 11, 'cost': 24},\n",
    "}\n",
    "\n",
    "for i in results.keys():\n",
    "    ROI = (results.get(i).get('revenue') / results.get(i).get('cost') - 1) * 100 # Вычисляем ROI\n",
    "    results.get(i).update({'ROI': round(ROI,2)}) # Записываем ROI\n",
    "    \n",
    "print('Результат:')\n",
    "print(results)"
   ]
  },
  {
   "cell_type": "markdown",
   "metadata": {},
   "source": [
    "## Задание 4\n",
    "Дана переменная, в которой хранится статистика рекламных каналов по объемам продаж \n",
    "(пример структуры данных приведен ниже). Напишите программу, \n",
    "которая возвращает название канала с максимальным объемом продаж."
   ]
  },
  {
   "cell_type": "code",
   "execution_count": 86,
   "metadata": {},
   "outputs": [
    {
     "name": "stdout",
     "output_type": "stream",
     "text": [
      "Максимальный объем продаж на рекламном канале: vk\n"
     ]
    }
   ],
   "source": [
    "stats = {'facebook': 55, 'yandex': 115, 'vk': 120, 'google': 99, 'email': 42, 'ok': 98}\n",
    "channel_max = '' # Запись для максимльного канала\n",
    "max = -1 # максимум, гарантированно меньший, чем любой канал\n",
    "\n",
    "for i in stats.keys():\n",
    "    if stats.get(i) > max: # Если в канале продаж больше, чем max, то записываем его, как максимальный\n",
    "        max = stats.get(i)\n",
    "        channel_max = i\n",
    "        \n",
    "print ('Максимальный объем продаж на рекламном канале: ' + channel_max)"
   ]
  },
  {
   "cell_type": "markdown",
   "metadata": {},
   "source": [
    "## Задание 5 (необязательно)\n",
    "Дан список произвольной длины. \n",
    "Необходимо написать код, \n",
    "который на основе исходного списка составит \n",
    "словарь такого уровня вложенности, \n",
    "какова длина исхондого списка."
   ]
  },
  {
   "cell_type": "code",
   "execution_count": 3,
   "metadata": {},
   "outputs": [
    {
     "name": "stdout",
     "output_type": "stream",
     "text": [
      "{'a': {'b': {'c': {'d': {'e': 'f'}}}}}\n"
     ]
    }
   ],
   "source": [
    "my_list = ['a', 'b', 'c', 'd', 'e', 'f']\n",
    "new_list = my_list[-1] # Записываем 1е значение\n",
    "i = -2 # начинаем цикл со второго элемента с конца\n",
    "\n",
    "while i > -len(my_list)-1: # цикл от конца к началу\n",
    "    new_list = {my_list[i]: new_list}\n",
    "    i -= 1\n",
    "    \n",
    "print(new_list)"
   ]
  },
  {
   "cell_type": "code",
   "execution_count": null,
   "metadata": {},
   "outputs": [],
   "source": [
    "Задание 6 (необязательно)\n",
    "Дана книга рецептов с информацией о том, \n",
    "сколько ингредиентов нужно для приготовления блюда \n",
    "в расчете на одну порцию (пример данных представлен ниже).\n",
    "Напишите программу, которая будет запрашивать у пользователя \n",
    "количество порций для приготовления этих блюд и отображать \n",
    "информацию о суммарном количестве требуемых ингредиентов в указанном виде.\n",
    "Внимание! Одинаковые ингридиенты с разными размерностями нужно считать раздельно!"
   ]
  },
  {
   "cell_type": "code",
   "execution_count": 5,
   "metadata": {},
   "outputs": [
    {
     "name": "stdout",
     "output_type": "stream",
     "text": [
      "Введите количество порций: 100\n",
      "сыр : 7000 гр\n",
      "томаты : 4000 гр\n",
      "огурцы : 2000 гр\n",
      "маслины : 1000 гр\n",
      "оливковое масло : 2000 мл\n",
      "салат : 1000 гр\n",
      "перец : 2000 гр\n",
      "колбаса : 3000 гр\n",
      "бекон : 3000 гр\n",
      "оливки : 1000 гр\n",
      "тесто : 10000 гр\n",
      "лимон : 100 шт\n",
      "вода : 20000 мл\n",
      "сахар : 1000 гр\n",
      "лайм : 2000 гр\n"
     ]
    }
   ],
   "source": [
    "cook_book = {\n",
    "  'салат': [\n",
    "     {'ingridient_name': 'сыр', 'quantity': 50, 'measure': 'гр'},\n",
    "     {'ingridient_name': 'томаты', 'quantity': 20, 'measure': 'гр'},\n",
    "     {'ingridient_name': 'огурцы', 'quantity': 20, 'measure': 'гр'},\n",
    "     {'ingridient_name': 'маслины', 'quantity': 10, 'measure': 'гр'},\n",
    "     {'ingridient_name': 'оливковое масло', 'quantity': 20, 'measure': 'мл'},\n",
    "     {'ingridient_name': 'салат', 'quantity': 10, 'measure': 'гр'},\n",
    "     {'ingridient_name': 'перец', 'quantity': 20, 'measure': 'гр'}\n",
    "    ],\n",
    "  'пицца': [\n",
    "     {'ingridient_name': 'сыр', 'quantity': 20, 'measure': 'гр'},\n",
    "     {'ingridient_name': 'колбаса', 'quantity': 30, 'measure': 'гр'},\n",
    "     {'ingridient_name': 'бекон', 'quantity': 30, 'measure': 'гр'},\n",
    "     {'ingridient_name': 'оливки', 'quantity': 10, 'measure': 'гр'},\n",
    "     {'ingridient_name': 'томаты', 'quantity': 20, 'measure': 'гр'},\n",
    "     {'ingridient_name': 'тесто', 'quantity': 100, 'measure': 'гр'},   \n",
    "    ],\n",
    "  'лимонад': [\n",
    "     {'ingridient_name': 'лимон', 'quantity': 1, 'measure': 'шт'},\n",
    "     {'ingridient_name': 'вода', 'quantity': 200, 'measure': 'мл'},\n",
    "     {'ingridient_name': 'сахар', 'quantity': 10, 'measure': 'гр'},\n",
    "     {'ingridient_name': 'лайм', 'quantity': 20, 'measure': 'гр'},    \n",
    "    ]\n",
    "}\n",
    "\n",
    "number = int(input('Введите количество порций: '))\n",
    "list = [] # Список ингридиентов для проверки повторений\n",
    "\n",
    "for i in cook_book.keys(): \n",
    "    for j in cook_book.get(i):\n",
    "        \n",
    "        item = j.get('ingridient_name') # Циклы для перебора ингридиентов\n",
    "        if list.count(item) == 0: # Если ингридиент ещё не подсчитан,\n",
    "            list.append(item) # то добавляем в лист\n",
    "            \n",
    "            Q = 0\n",
    "            G = j.get('measure')\n",
    "            for i2 in cook_book.keys():\n",
    "                for j2 in cook_book.get(i2): # Вторая очередь циклов - уже для подсчёта\n",
    "                    \n",
    "                    if j2.get('ingridient_name') == item:\n",
    "                        Q += j2.get('quantity')\n",
    "                        \n",
    "            print(item,\":\", Q * number, G)       "
   ]
  },
  {
   "cell_type": "code",
   "execution_count": null,
   "metadata": {},
   "outputs": [],
   "source": []
  }
 ],
 "metadata": {
  "kernelspec": {
   "display_name": "Python 3",
   "language": "python",
   "name": "python3"
  },
  "language_info": {
   "codemirror_mode": {
    "name": "ipython",
    "version": 3
   },
   "file_extension": ".py",
   "mimetype": "text/x-python",
   "name": "python",
   "nbconvert_exporter": "python",
   "pygments_lexer": "ipython3",
   "version": "3.7.6"
  }
 },
 "nbformat": 4,
 "nbformat_minor": 4
}
